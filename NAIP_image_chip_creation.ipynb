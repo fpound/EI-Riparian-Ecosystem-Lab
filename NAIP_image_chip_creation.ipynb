{
 "cells": [
  {
   "cell_type": "markdown",
   "id": "8d4c8e84-64eb-4467-ad7e-9b43a4457cf7",
   "metadata": {},
   "source": [
    "# NAIP Image Chip Creation\n",
    "### Earthshot Institute Riparian Ecosystems Lab\n",
    "\n",
    "This script uses the EI_Riparian module to run a process that develops a set of 256x256 image chips from NAIP imagery that are used to train a computer vision model to identify more Beaver Dams. \n",
    "\n",
    "This script relies on a set beaver dam shapefiles from Dr. Emily Fairfax's research on Beaver Dams. "
   ]
  },
  {
   "cell_type": "code",
   "execution_count": null,
   "id": "f713fd0f-771f-443d-83bb-fb3462b7c6fe",
   "metadata": {},
   "outputs": [],
   "source": []
  },
  {
   "cell_type": "code",
   "execution_count": 4,
   "id": "bc66d50d-0b1f-4b8a-9764-4b684592a4e2",
   "metadata": {
    "tags": []
   },
   "outputs": [],
   "source": [
    "import EI_Riparian as EIR\n",
    "import rasterio, glob, warnings, os\n",
    "import geopandas as gpd"
   ]
  },
  {
   "cell_type": "code",
   "execution_count": null,
   "id": "e3700870-4c62-4385-a7e4-a0538d72cc42",
   "metadata": {},
   "outputs": [],
   "source": []
  },
  {
   "cell_type": "code",
   "execution_count": null,
   "id": "c5b2e9ad-eade-44d1-a623-c734a1a20ae4",
   "metadata": {
    "tags": []
   },
   "outputs": [],
   "source": [
    "# Get your Current Working Directory. Should be the location of this file. \n",
    "# If you would like to identify a new location for Data downlaod and creation, do so in the cell below.  \n",
    "\n",
    "os.getcwd()"
   ]
  },
  {
   "cell_type": "code",
   "execution_count": 17,
   "id": "6d76097f-c576-43c2-bc50-8c50fa5a780d",
   "metadata": {},
   "outputs": [],
   "source": [
    "# This is your opportunity to select a different location for downloading the DEMs and NAIP image chips. \n",
    "# You might do this if you don't have much space on your machine and wish to use an external drive.\n",
    "# However, please keep in mind that you will need to copy over the BEAVER_DAM_SHAPEFILES \n",
    "# folder to that location for the script to run properly.  \n",
    "\n",
    "DataFolder = 'DATA'       # Copy the new path here.  \n",
    "EIR.change_dir(DataFolder)\n",
    "\n",
    "# Please only run this cell once.  "
   ]
  },
  {
   "cell_type": "code",
   "execution_count": null,
   "id": "9134f85b-db90-4186-9e05-4549f5da487f",
   "metadata": {},
   "outputs": [],
   "source": [
    "%%time\n",
    "\n",
    "n_counter = 1\n",
    "\n",
    "## Input your own new file path - outside of the repo. This downloads a LOT of files.  \n",
    "for InputData in glob.glob('BEAVER_DAM_SHAPEFILES'):\n",
    "    print(f\"Working on location {n_counter} of {len(glob.glob('BEAVER_DAM_SHAPEFILES/*.shp'))}...\")\n",
    "\n",
    "    warnings.filterwarnings(\"ignore\")  ## optional. I'm getting an number of depreciated warnings... \n",
    "    rasterList = EIR.Download_DEM(InputData)\n",
    "    \n",
    "    print (\"Download Complete\")\n",
    "\n",
    "    rasterList = EIR.deleteOldFiles(os.path.dirname(rasterList[0]))  \n",
    "    \n",
    "    \n",
    "    for eachDEM in rasterList:\n",
    "\n",
    "        \n",
    "        DEM_path = EIR.crop_byBoundary(eachDEM, InputData)\n",
    "        \n",
    "        \n",
    "        if DEM_path is not None:\n",
    "            \n",
    "        \n",
    "            DEM_name = os.path.split(eachDEM)[-1].split('.')[0]\n",
    "            DEM = rasterio.open(DEM_path)\n",
    "\n",
    "            inputName = os.path.split(InputData)[-1].split('.')[0]\n",
    "\n",
    "            dirList = [f'NAIP/CHIPS_{inputName}']\n",
    "            for x in dirList:\n",
    "                if not os.path.isdir(x):\n",
    "                    os.mkdir(x)\n",
    "\n",
    "            streamNet = EIR.watershed_preProcessing(DEM_path)\n",
    "            print (\"Watershed pre-Processing Complete\")\n",
    "\n",
    "\n",
    "            points, points_path = EIR.makePointsFromLines(streamNet, 100)\n",
    "            print (\"Points Creation Complete\")\n",
    "\n",
    "            ## Set up the yes/no dam question for training data\n",
    "            buff = gpd.read_file(points_path).buffer(128, cap_style=3)\n",
    "            buff.to_file(f'POINTS/{inputName}_tempOUT.shp')\n",
    "            buff_gdf = gpd.read_file(f'POINTS/{inputName}_tempOUT.shp')\n",
    "\n",
    "            dams = gpd.read_file(InputData)\n",
    "            damsRepro = dams.to_crs(buff.crs)\n",
    "            dams_union = damsRepro.geometry.unary_union\n",
    "\n",
    "\n",
    "            print (f\"Now, creating NAIP chips for {inputName}, yes beaver dam intersect.\")\n",
    "            \n",
    "            try:\n",
    "                ## Yes, there is an intersection between image chip and beaver dam, output images\n",
    "                yes_dams = buff_gdf[buff_gdf.geometry.intersects(dams_union)]\n",
    "                yes_path = f'POINTS/{inputName}_yes_dams.shp'\n",
    "                yes_dams.to_file(yes_path)\n",
    "                yes_gdf = gpd.read_file(yes_path)\n",
    "                yes_repro = yes_gdf.to_crs(DEM.crs)\n",
    "                NAIP_Chips_folder = EIR.points_toNAIP_Chips(yes_repro, inputName, 'yes')\n",
    "            except:\n",
    "                print (\"No (yes) NAIP imagery found\")\n",
    "                pass\n",
    "            \n",
    "            \n",
    "            try:\n",
    "                print (f\"Now, creating NAIP chips for {inputName}, no beaver dam intersect.\")\n",
    "                ## No, there is an intersection between image chip and beaver dam, output images\n",
    "                no_dams = buff_gdf[~buff_gdf.geometry.intersects(dams_union)]\n",
    "                no_path = f'POINTS/{inputName}_no_dams.shp'\n",
    "                no_dams.to_file(no_path)\n",
    "                no_gdf = gpd.read_file(no_path)\n",
    "                no_repro = no_gdf.to_crs(DEM.crs)\n",
    "                NAIP_Chips_folder = EIR.points_toNAIP_Chips(no_repro, inputName,'no')\n",
    "            \n",
    "            except:\n",
    "                print (\"No (no) NAIP imagery found\")\n",
    "                pass\n",
    "            \n",
    "\n",
    "    n_counter += 1\n",
    "print (\"All done!\")\n",
    "warnings.resetwarnings()  ## optional. I'm getting an number of depreciated warnings... \n"
   ]
  },
  {
   "cell_type": "code",
   "execution_count": null,
   "id": "55689768-1862-43fb-b6b9-1e8e8c8e48d3",
   "metadata": {},
   "outputs": [],
   "source": []
  }
 ],
 "metadata": {
  "kernelspec": {
   "display_name": "Python 3 (ipykernel)",
   "language": "python",
   "name": "python3"
  },
  "language_info": {
   "codemirror_mode": {
    "name": "ipython",
    "version": 3
   },
   "file_extension": ".py",
   "mimetype": "text/x-python",
   "name": "python",
   "nbconvert_exporter": "python",
   "pygments_lexer": "ipython3",
   "version": "3.9.10"
  }
 },
 "nbformat": 4,
 "nbformat_minor": 5
}
